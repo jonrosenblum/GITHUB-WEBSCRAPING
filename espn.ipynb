{
 "cells": [
  {
   "cell_type": "code",
   "execution_count": 2,
   "id": "eadefe18-7916-41a4-a883-75bc84c3b5e7",
   "metadata": {},
   "outputs": [
    {
     "name": "stdout",
     "output_type": "stream",
     "text": [
      "\u001b[33mWARNING: You are using pip version 22.0.4; however, version 23.2.1 is available.\n",
      "You should consider upgrading via the '/Users/jonrosenblum/.pyenv/versions/3.10.4/bin/python3.10 -m pip install --upgrade pip' command.\u001b[0m\u001b[33m\n",
      "\u001b[0m"
     ]
    }
   ],
   "source": [
    "!pip install requests --upgrade --quiet"
   ]
  },
  {
   "cell_type": "code",
   "execution_count": 3,
   "id": "3a6aa10b-0bcf-43ae-9727-aa25a0ba63f0",
   "metadata": {},
   "outputs": [],
   "source": [
    "import requests"
   ]
  },
  {
   "cell_type": "code",
   "execution_count": 10,
   "id": "bcb83806-b3f5-4bfc-8ce2-ee3fee80d4c6",
   "metadata": {},
   "outputs": [],
   "source": [
    "mlb_scoreboard_url = \"https://www.espn.com/mlb/scoreboard\"\n",
    "response = requests.get(mlb_scoreboard_url)\n",
    "mlb_scoreboard_page_contents = response.text"
   ]
  },
  {
   "cell_type": "code",
   "execution_count": 13,
   "id": "e0e255e6-7546-4e06-bfa6-8ef0a09a452d",
   "metadata": {},
   "outputs": [],
   "source": [
    "with open('webpage.html', 'w') as f:\n",
    "    f.write(mlb_scoreboard_page_contents)"
   ]
  },
  {
   "cell_type": "code",
   "execution_count": 14,
   "id": "d8d0ddf0-fd6c-44f5-b3b9-0b774e2676b6",
   "metadata": {},
   "outputs": [
    {
     "name": "stdout",
     "output_type": "stream",
     "text": [
      "\u001b[33mWARNING: You are using pip version 22.0.4; however, version 23.2.1 is available.\n",
      "You should consider upgrading via the '/Users/jonrosenblum/.pyenv/versions/3.10.4/bin/python3.10 -m pip install --upgrade pip' command.\u001b[0m\u001b[33m\n",
      "\u001b[0m"
     ]
    }
   ],
   "source": [
    "!pip install beautifulsoup4 --upgrade --quiet"
   ]
  },
  {
   "cell_type": "code",
   "execution_count": 20,
   "id": "d967720a-744f-4361-ab2a-4973eedcd026",
   "metadata": {},
   "outputs": [],
   "source": [
    "from bs4 import BeautifulSoup"
   ]
  },
  {
   "cell_type": "code",
   "execution_count": 23,
   "id": "389f63d2-9629-45a2-8015-a7f33d24be53",
   "metadata": {},
   "outputs": [],
   "source": [
    "doc = BeautifulSoup(mlb_scoreboard_page_contents, 'html.parser')"
   ]
  },
  {
   "cell_type": "code",
   "execution_count": 31,
   "id": "d981cad5-b5dc-48c6-985b-3aabe325aea6",
   "metadata": {},
   "outputs": [],
   "source": [
    "selection_class_mlb_scoreboard = \"ScoreboardScoreCell__Item flex items-center relative pb2 ScoreboardScoreCell__Item--away\""
   ]
  },
  {
   "cell_type": "code",
   "execution_count": 34,
   "id": "d895f601-8092-4aac-8884-1b5c238ce7b0",
   "metadata": {},
   "outputs": [],
   "source": [
    "scoreboard_tags = doc.find_all('p', {'class': selection_class_mlb_scoreboard})"
   ]
  },
  {
   "cell_type": "code",
   "execution_count": 35,
   "id": "a1085c0f-913c-4ec6-938a-cda3befec242",
   "metadata": {},
   "outputs": [
    {
     "data": {
      "text/plain": [
       "0"
      ]
     },
     "execution_count": 35,
     "metadata": {},
     "output_type": "execute_result"
    }
   ],
   "source": [
    "len(scoreboard_tags)"
   ]
  },
  {
   "cell_type": "code",
   "execution_count": null,
   "id": "9b33feea-741d-45ef-8f80-a25040e4e6e3",
   "metadata": {},
   "outputs": [],
   "source": []
  },
  {
   "cell_type": "code",
   "execution_count": null,
   "id": "fbbb5f96-d000-4c30-83d6-7dc7ac79420a",
   "metadata": {},
   "outputs": [],
   "source": []
  },
  {
   "cell_type": "code",
   "execution_count": null,
   "id": "cda95fe7-39bb-4374-a915-78e914e02545",
   "metadata": {},
   "outputs": [],
   "source": []
  },
  {
   "cell_type": "code",
   "execution_count": null,
   "id": "2b623041-c6d2-4e53-b5a2-5d65072cff60",
   "metadata": {},
   "outputs": [],
   "source": []
  },
  {
   "cell_type": "code",
   "execution_count": null,
   "id": "25d24d5e-78c7-4df6-910a-68d01f8e5af8",
   "metadata": {},
   "outputs": [],
   "source": []
  },
  {
   "cell_type": "code",
   "execution_count": null,
   "id": "2e16e3a6-410b-4b48-84a8-bfb8a5a3bf62",
   "metadata": {},
   "outputs": [],
   "source": []
  },
  {
   "cell_type": "code",
   "execution_count": null,
   "id": "1dd2df7a-b2f7-47d2-8bb3-249237927b70",
   "metadata": {},
   "outputs": [],
   "source": []
  }
 ],
 "metadata": {
  "kernelspec": {
   "display_name": "Python 3 (ipykernel)",
   "language": "python",
   "name": "python3"
  },
  "language_info": {
   "codemirror_mode": {
    "name": "ipython",
    "version": 3
   },
   "file_extension": ".py",
   "mimetype": "text/x-python",
   "name": "python",
   "nbconvert_exporter": "python",
   "pygments_lexer": "ipython3",
   "version": "3.10.4"
  }
 },
 "nbformat": 4,
 "nbformat_minor": 5
}
